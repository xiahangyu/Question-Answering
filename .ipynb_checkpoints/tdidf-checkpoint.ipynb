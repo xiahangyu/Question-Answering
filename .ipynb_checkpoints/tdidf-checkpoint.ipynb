{
 "cells": [
  {
   "cell_type": "code",
   "execution_count": 152,
   "metadata": {},
   "outputs": [],
   "source": [
    "import numpy as np\n",
    "from nltk.corpus import stopwords\n",
    "from nltk.tokenize import word_tokenize\n",
    "\n",
    "stop_words = set(stopwords.words('english'))\n",
    "def remove_stopw(sent):\n",
    "    tokenized_sent = word_tokenize(sent)\n",
    "    print(tokenized_sent)\n",
    "    return [word for word in tokenized_sent if word.lower not in stop_words]\n",
    "#print(remove_stopw(\"This is a sample sentence, showing off the stop words filtration.\"))"
   ]
  },
  {
   "cell_type": "code",
   "execution_count": 32,
   "metadata": {},
   "outputs": [],
   "source": [
    "import json\n",
    "\n",
    "training_f = open(\"./data/training.json\", encoding='utf-8')\n",
    "training_js = json.load(training_f)\n",
    "train_qs = [item['question'] for item in training_js]\n",
    "train_texts = [item['text'] for item in training_js]\n",
    "train_aps = [item['answer_paragraph'] for item in training_js]\n",
    "train_docids = [item['docid'] for item in training_js]\n",
    "training_f.close()\n",
    "\n",
    "'''\n",
    "testing_f = open(\"./data/testing.json\", encoding='utf-8')\n",
    "testing_js = json.load(testing_f)\n",
    "test_qs = [item['question'] for item in testing_js]\n",
    "test_docids = [item['docid'] for item in testing_js]\n",
    "testing_f.close()\n",
    "'''\n",
    "\n",
    "doc_f = open(\"./data/documents.json\", encoding='utf-8')\n",
    "doc_js = json.load(doc_f)\n",
    "doc_docids = [item['docid'] for item in doc_js]\n",
    "doc_docs = [item['text'] for item in doc_js]\n",
    "doc_f.close()"
   ]
  },
  {
   "cell_type": "code",
   "execution_count": 143,
   "metadata": {
    "scrolled": true
   },
   "outputs": [],
   "source": [
    "flatten = lambda docs: [text for doc in docs for text in doc]\n",
    "\n",
    "from sklearn.feature_extraction.text import CountVectorizer\n",
    "vectorizer = CountVectorizer()\n",
    "X_docs = vectorizer.fit_transform(flatten(doc_docs))\n",
    "\n",
    "from sklearn.feature_extraction.text import TfidfTransformer\n",
    "transformer = TfidfTransformer()\n",
    "transformer.fit_transform(X_docs)\n",
    "\n",
    "tfidf_docs = [transformer.transform(vectorizer.transform(doc)).todense() for doc in doc_docs]\n",
    "tfidf_train_qs = transformer.transform(vectorizer.transform(train_qs)).todense()"
   ]
  },
  {
   "cell_type": "code",
   "execution_count": 141,
   "metadata": {},
   "outputs": [],
   "source": [
    "from sklearn.metrics.pairwise import cosine_similarity\n",
    "\n",
    "pred_train_aps = []\n",
    "for i in range(len(train_qs)):\n",
    "    similarities = cosine_similarity(tfidf_train_qs[i], tfidf_docs[train_docids[i]])\n",
    "    ap = np.argmax(similarities)\n",
    "    pred_train_aps.append(ap)"
   ]
  },
  {
   "cell_type": "code",
   "execution_count": 142,
   "metadata": {},
   "outputs": [
    {
     "name": "stdout",
     "output_type": "stream",
     "text": [
      "0.6365522487839738\n"
     ]
    }
   ],
   "source": [
    "print(np.sum(np.array(pred_train_aps)==np.array(train_aps))/len(train_aps))"
   ]
  }
 ],
 "metadata": {
  "kernelspec": {
   "display_name": "Python 3",
   "language": "python",
   "name": "python3"
  },
  "language_info": {
   "codemirror_mode": {
    "name": "ipython",
    "version": 3
   },
   "file_extension": ".py",
   "mimetype": "text/x-python",
   "name": "python",
   "nbconvert_exporter": "python",
   "pygments_lexer": "ipython3",
   "version": "3.6.4"
  }
 },
 "nbformat": 4,
 "nbformat_minor": 2
}
